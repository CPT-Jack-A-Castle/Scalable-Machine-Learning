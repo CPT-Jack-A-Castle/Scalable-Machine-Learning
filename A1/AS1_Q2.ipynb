{
 "cells": [
  {
   "cell_type": "code",
   "execution_count": 1,
   "metadata": {
    "collapsed": true
   },
   "outputs": [],
   "source": [
    "import os\n",
    "import subprocess\n",
    "def module(*args):        \n",
    "    if isinstance(args[0], list):        \n",
    "        args = args[0]        \n",
    "    else:        \n",
    "        args = list(args)        \n",
    "    (output, error) = subprocess.Popen(['/usr/bin/modulecmd', 'python'] + args, stdout=subprocess.PIPE).communicate()\n",
    "    exec(output)    \n",
    "module('load', 'apps/java/jdk1.8.0_102/binary')    \n",
    "os.environ['PYSPARK_PYTHON'] = os.environ['HOME'] + '/.conda/envs/jupyter-spark/bin/python'"
   ]
  },
  {
   "cell_type": "markdown",
   "metadata": {
    "collapsed": true
   },
   "source": [
    "## Start of code"
   ]
  },
  {
   "cell_type": "code",
   "execution_count": 2,
   "metadata": {
    "collapsed": true
   },
   "outputs": [],
   "source": [
    "#Initialize pyspark\n",
    "import pyspark\n",
    "\n",
    "from pyspark.sql import SparkSession\n",
    "\n",
    "spark = SparkSession.builder \\\n",
    "    .master(\"local[2]\") \\\n",
    "    .appName(\"COM6012: Assignment 1 - Q2\") \\\n",
    "    .getOrCreate()\n",
    "\n",
    "sc = spark.sparkContext"
   ]
  },
  {
   "cell_type": "code",
   "execution_count": 3,
   "metadata": {
    "collapsed": true
   },
   "outputs": [],
   "source": [
    "#Load and prepare data\n",
    "ratings = spark.read.load(\"Data/ml-20m/ratings.csv\", format=\"csv\", inferSchema=\"true\", header=\"true\")"
   ]
  },
  {
   "cell_type": "code",
   "execution_count": 4,
   "metadata": {
    "collapsed": true
   },
   "outputs": [],
   "source": [
    "data_split = ratings.randomSplit([0.2, 0.2, 0.2, 0.2, 0.2], seed=3233)"
   ]
  },
  {
   "cell_type": "code",
   "execution_count": 5,
   "metadata": {
    "collapsed": true
   },
   "outputs": [],
   "source": [
    "from pyspark.ml.evaluation import RegressionEvaluator\n",
    "from pyspark.ml.recommendation import ALS\n",
    "\n",
    "#Method for running ALS operations\n",
    "def perform_ALS(training, test, rp=0.1, mi=10):\n",
    "    als = ALS(maxIter=mi, regParam=rp, userCol=\"userId\", itemCol=\"movieId\", ratingCol=\"rating\",\n",
    "          coldStartStrategy=\"drop\")\n",
    "    model = als.fit(training)\n",
    "    \n",
    "    predictions = model.transform(test)\n",
    "    evaluator_r = RegressionEvaluator(metricName=\"rmse\", labelCol=\"rating\",predictionCol=\"prediction\")\n",
    "    evaluator_m = RegressionEvaluator(metricName=\"mae\", labelCol=\"rating\",predictionCol=\"prediction\")\n",
    "    \n",
    "    rmse = evaluator_r.evaluate(predictions)\n",
    "    mae = evaluator_m.evaluate(predictions)\n",
    "    \n",
    "    return rmse, mae, model"
   ]
  },
  {
   "cell_type": "code",
   "execution_count": null,
   "metadata": {
    "collapsed": true
   },
   "outputs": [],
   "source": [
    "from pyspark.sql.types import StructType, IntegerType, DoubleType, StructField\n",
    "\n",
    "#Method to create empty dataframe\n",
    "def create_empty_df():\n",
    "    fields = [StructField(\"userId\", IntegerType()), StructField(\"movieId\", IntegerType()), StructField(\"rating\", DoubleType()), StructField(\"timestamp\", IntegerType())]\n",
    "    schema = StructType(fields)\n",
    "    return spark.createDataFrame(sc.emptyRDD(), schema)"
   ]
  },
  {
   "cell_type": "markdown",
   "metadata": {},
   "source": [
    "#### 2A - Performing five-fold cross validation"
   ]
  },
  {
   "cell_type": "code",
   "execution_count": null,
   "metadata": {},
   "outputs": [
    {
     "name": "stdout",
     "output_type": "stream",
     "text": [
      "[*] Performing ALS for fold:  1\n",
      "[*] Performing ALS for fold:  2\n",
      "[*] Performing ALS for fold:  3\n",
      "[*] Performing ALS for fold:  5\n"
     ]
    }
   ],
   "source": [
    "rmse_da, rmse_na, mae_da, mae_na, model_d = [], [], [], [], []\n",
    "\n",
    "for i in range(5):\n",
    "    #create training data\n",
    "    test_data = data_split[i]\n",
    "    training_data = create_empty_df()\n",
    "    for j in range(5):\n",
    "        if i==j: continue\n",
    "        training_data = training_data.union(data_split[j])\n",
    "    print(\"[*] Performing ALS for fold: \", (i+1))\n",
    "    rmse_d, mae_d, model = perform_ALS(training_data, test_data)\n",
    "    rmse_n, mae_n, _ = perform_ALS(training_data, test_data, 0.5, 2)\n",
    "    \n",
    "    rmse_da.append(rmse_d)\n",
    "    rmse_na.append(rmse_n)\n",
    "    mae_da.append(mae_d)\n",
    "    mae_na.append(mae_n)\n",
    "    model_d.append(model)\n",
    "    "
   ]
  },
  {
   "cell_type": "markdown",
   "metadata": {},
   "source": [
    "#### 2B - RMSE and MAE values for five-fold cross validation"
   ]
  },
  {
   "cell_type": "code",
   "execution_count": null,
   "metadata": {
    "scrolled": false
   },
   "outputs": [
    {
     "name": "stdout",
     "output_type": "stream",
     "text": [
      "RMSE values: 0.8064884240564395, 0.8059774588491122, 0.8072957942454753, 0.8062745627609654, 0.8067585740423929\n",
      "MAE values: 0.6269468884422882, 0.6262886457008252, 0.6273757782009896, 0.6262157412542964, 0.626908928562934\n",
      "RMSE with custom options - values: 1.3566787585699531, 1.3777952968865996, 1.372110291632093, 1.4288687200916226, 1.3873552846179906\n",
      "MAE with custom options - values:  1.165281779098615, 1.1860035720320061, 1.1797459733772688, 1.233657008631722, 1.1949690147307974\n",
      "Mean of RMSE  0.806558962791\n",
      "Mean of MAE   0.626747196432\n",
      "Mean of RMSE with custom options - values:   1.38456167036\n",
      "Mean of MAE with custom options - values:   1.19193146957\n",
      "Standard Deviation of RMSE  0.000448725120441\n",
      "Standard Deviation of MAE  0.000436775136752\n",
      "Standard Deviation of RMSE with custom options - values:  0.0242866067973\n",
      "Standard Deviation of MAE with custom options - values:  0.0229959978235\n"
     ]
    }
   ],
   "source": [
    "import numpy as np\n",
    "\n",
    "print(\"RMSE values: \" + \", \".join([str(d) for d in rmse_da]))\n",
    "print(\"MAE values: \" + \", \".join([str(m) for m in mae_da]))\n",
    "print(\"RMSE with custom options - values: \" + \", \".join([str(k) for k in rmse_na]))\n",
    "print(\"MAE with custom options - values:  \" + \", \".join([str(l) for l in mae_na]))\n",
    "\n",
    "\n",
    "print(\"Mean of RMSE \", np.mean(rmse_da))\n",
    "print(\"Mean of MAE  \", np.mean(mae_da))\n",
    "print(\"Mean of RMSE with custom options - values:  \", np.mean(rmse_na))\n",
    "print(\"Mean of MAE with custom options - values:  \", np.mean(mae_na))\n",
    "\n",
    "print(\"Standard Deviation of RMSE \", np.std(rmse_da))\n",
    "print(\"Standard Deviation of MAE \", np.std(mae_da))\n",
    "print(\"Standard Deviation of RMSE with custom options - values: \", np.std(rmse_na))\n",
    "print(\"Standard Deviation of MAE with custom options - values: \", np.std(mae_na))"
   ]
  },
  {
   "cell_type": "code",
   "execution_count": 13,
   "metadata": {
    "collapsed": true
   },
   "outputs": [],
   "source": [
    "from pyspark.sql.functions import to_json, from_json, col, struct, lit\n",
    "from pyspark.sql.types import StructType, StructField\n",
    "from pyspark.ml.linalg import VectorUDT\n",
    "\n",
    "#Convert arrarytype to vectorUDT - https://stackoverflow.com/questions/42138482/how-do-i-convert-an-array-i-e-list-column-to-vector\n",
    "json_vec = to_json(struct(struct(\n",
    "    lit(1).alias(\"type\"),  # type 1 is dense, type 0 is sparse\n",
    "    col(\"features\").alias(\"values\")\n",
    ").alias(\"v\")))\n",
    "\n",
    "schema = StructType([StructField(\"v\", VectorUDT())])"
   ]
  },
  {
   "cell_type": "markdown",
   "metadata": {},
   "source": [
    "#### 2C - Finding top 5 tags from top 3 largest clusters using K-Means"
   ]
  },
  {
   "cell_type": "code",
   "execution_count": 14,
   "metadata": {
    "collapsed": true
   },
   "outputs": [],
   "source": [
    "#Load up other files for peforming K-Means analysis\n",
    "movie_tag = spark.read.load(\"Data/ml-20m/genome-scores.csv\", format=\"csv\", inferSchema=\"true\", header=\"true\")\n",
    "tag_tag = spark.read.load(\"Data/ml-20m/genome-tags.csv\", format=\"csv\", inferSchema=\"true\", header=\"true\")\n"
   ]
  },
  {
   "cell_type": "code",
   "execution_count": 19,
   "metadata": {},
   "outputs": [
    {
     "name": "stdout",
     "output_type": "stream",
     "text": [
      "+----------+-----+------------------+-----------------+\n",
      "|cluster_id|tagId|               tag|            r_sum|\n",
      "+----------+-----+------------------+-----------------+\n",
      "|         7|  742|          original|830.0850000000004|\n",
      "|         7|  972|      storytelling|654.5745000000003|\n",
      "|         7|  452|   good soundtrack|650.7422500000004|\n",
      "|         7|  936| social commentary|618.2425000000002|\n",
      "|         7|  468|      great ending|614.0780000000003|\n",
      "|         7|  646|            mentor|606.3747499999998|\n",
      "|         7|  323|             drama|591.1667500000002|\n",
      "|         7|  302|          dialogue|572.1697500000002|\n",
      "|         7|  554|       interesting|571.2022500000002|\n",
      "|         7|  465|      great acting|570.4087499999999|\n",
      "|         7|  240|           complex|569.2529999999997|\n",
      "|         7| 1008|             talky|555.8592499999997|\n",
      "|         7|  640|       melancholic|552.1002500000002|\n",
      "|         7| 1091|visually appealing|546.5605000000002|\n",
      "|         7|  169|         brutality|546.3347499999999|\n",
      "|         7|  270|         criterion|534.2507499999998|\n",
      "|         7| 1104|             weird|531.3109999999999|\n",
      "|         7|  610|        loneliness|530.6300000000001|\n",
      "|         7|  212|    cinematography|525.8714999999996|\n",
      "|         7|  536|      imdb top 250|          521.888|\n",
      "+----------+-----+------------------+-----------------+\n",
      "only showing top 20 rows\n",
      "\n",
      "+----------+-----+------------------+------------------+\n",
      "|cluster_id|tagId|               tag|             r_sum|\n",
      "+----------+-----+------------------+------------------+\n",
      "|        18|  742|          original| 782.2800000000001|\n",
      "|         1|  742|          original| 649.4009999999995|\n",
      "|        18|  972|      storytelling| 616.3209999999995|\n",
      "|        18|  452|   good soundtrack| 612.5574999999995|\n",
      "|        18|  646|            mentor| 603.7812500000001|\n",
      "|        18|  468|      great ending| 586.7975000000001|\n",
      "|        18|  323|             drama| 575.0052500000002|\n",
      "|         1|  646|            mentor| 561.6147499999997|\n",
      "|        18|  936| social commentary| 561.4212500000001|\n",
      "|        18|  465|      great acting| 556.5719999999995|\n",
      "|         1|  445|              good| 552.4112499999998|\n",
      "|        18|  554|       interesting| 544.7864999999999|\n",
      "|         1|  777|             pg-13| 542.0177499999998|\n",
      "|        18|  302|          dialogue| 538.4852500000001|\n",
      "|        18|  971|             story| 527.9362500000002|\n",
      "|        18|  240|           complex| 519.0792500000003|\n",
      "|         1|  468|      great ending| 513.9839999999999|\n",
      "|        18|  445|              good|511.66974999999985|\n",
      "|         1|  971|             story|503.76150000000024|\n",
      "|        18| 1091|visually appealing|         498.14325|\n",
      "+----------+-----+------------------+------------------+\n",
      "only showing top 20 rows\n",
      "\n",
      "+----------+-----+--------------------+-----------------+\n",
      "|cluster_id|tagId|                 tag|            r_sum|\n",
      "+----------+-----+--------------------+-----------------+\n",
      "|         1|  742|            original|762.1802499999998|\n",
      "|         2|  742|            original|698.3612500000004|\n",
      "|         1|  972|        storytelling|594.3777500000001|\n",
      "|         1|  452|     good soundtrack|590.2089999999998|\n",
      "|         1|  468|        great ending|583.7002499999999|\n",
      "|         1|  646|              mentor|574.8779999999998|\n",
      "|         1|  323|               drama|          571.478|\n",
      "|         1|  465|        great acting|569.1112500000002|\n",
      "|         1|  554|         interesting|561.7220000000002|\n",
      "|         1|  936|   social commentary|          556.426|\n",
      "|         1|  536|        imdb top 250|551.5350000000004|\n",
      "|         1|  302|            dialogue|550.7962500000002|\n",
      "|         2|  646|              mentor|546.7262499999998|\n",
      "|         2|  468|        great ending|540.1162500000002|\n",
      "|         1| 1008|               talky|530.0080000000002|\n",
      "|         2|  445|                good|522.1449999999999|\n",
      "|         2|  302|            dialogue|521.5494999999999|\n",
      "|         1|  240|             complex|521.0390000000001|\n",
      "|         1|  750|oscar (best direc...|520.4285000000002|\n",
      "|         2|  971|               story|513.8417499999999|\n",
      "+----------+-----+--------------------+-----------------+\n",
      "only showing top 20 rows\n",
      "\n",
      "+----------+-----+--------------------+-----------------+\n",
      "|cluster_id|tagId|                 tag|            r_sum|\n",
      "+----------+-----+--------------------+-----------------+\n",
      "|         1|  742|            original|         787.5125|\n",
      "|         4|  742|            original|643.0040000000001|\n",
      "|         1|  270|           criterion|606.8502499999997|\n",
      "|         1|  972|        storytelling|593.8032500000002|\n",
      "|         1|  452|     good soundtrack|590.7074999999999|\n",
      "|         1| 1008|               talky|586.5909999999998|\n",
      "|         1|  936|   social commentary|584.5502499999999|\n",
      "|         1|  468|        great ending|579.3502499999998|\n",
      "|         1|  536|        imdb top 250|        564.99025|\n",
      "|         1|  323|               drama|563.8997499999998|\n",
      "|         1|  646|              mentor|558.8825000000002|\n",
      "|         1|  465|        great acting|          555.846|\n",
      "|         1|  554|         interesting|         554.1465|\n",
      "|         1|  302|            dialogue|549.4559999999998|\n",
      "|         1|  640|         melancholic|537.5855000000001|\n",
      "|         1|  240|             complex|532.3649999999999|\n",
      "|         1|  750|oscar (best direc...|532.2389999999999|\n",
      "|         1|  867|             runaway|523.9115000000003|\n",
      "|         4|  646|              mentor|517.1932499999999|\n",
      "|         4|  468|        great ending|515.1457499999999|\n",
      "+----------+-----+--------------------+-----------------+\n",
      "only showing top 20 rows\n",
      "\n",
      "+----------+-----+-----------------+------------------+\n",
      "|cluster_id|tagId|              tag|             r_sum|\n",
      "+----------+-----+-----------------+------------------+\n",
      "|        13|  742|         original| 777.2919999999998|\n",
      "|         1|  742|         original| 707.0807500000002|\n",
      "|        13|  646|           mentor| 614.3335000000003|\n",
      "|        13|  972|     storytelling| 612.2907500000003|\n",
      "|        13|  452|  good soundtrack|         609.69925|\n",
      "|        13|  468|     great ending|          590.5155|\n",
      "|         1|  646|           mentor| 589.8544999999999|\n",
      "|        13|  323|            drama|         578.45525|\n",
      "|         1|  445|             good| 571.7115000000002|\n",
      "|         1|  777|            pg-13| 562.4539999999997|\n",
      "|        13|  465|     great acting| 555.6329999999999|\n",
      "|        13|  302|         dialogue|         538.91575|\n",
      "|         1|  188|      catastrophe|         537.99225|\n",
      "|        13|  554|      interesting| 537.7437500000002|\n",
      "|        13|  936|social commentary| 536.0465000000002|\n",
      "|        13|  971|            story| 534.8607499999998|\n",
      "|        13|  445|             good| 527.7722499999999|\n",
      "|         1|  468|     great ending| 525.6507499999999|\n",
      "|         1|  807|      predictable| 519.7377499999999|\n",
      "|         1|  302|         dialogue|506.71650000000017|\n",
      "+----------+-----+-----------------+------------------+\n",
      "only showing top 20 rows\n",
      "\n"
     ]
    }
   ],
   "source": [
    "from pyspark.sql.functions import count, col, desc, sum, rank\n",
    "\n",
    "from pyspark.ml.clustering import KMeans\n",
    "from pyspark.ml.linalg import Vectors\n",
    "all_t5_tags = []\n",
    "for model in model_d:\n",
    "    movie_factors = model.itemFactors\n",
    "    \n",
    "    kmeans = KMeans(k=20, seed=3233)\n",
    "    movie_factors = movie_factors.withColumn(\"parsed_features\", from_json(json_vec, schema).getItem(\"v\")).select(col(\"parsed_features\").alias(\"features\"), col(\"id\"))\n",
    "    model_k = kmeans.fit(movie_factors.select(\"features\"))\n",
    "\n",
    "    movie_pred = model_k.transform(movie_factors)\n",
    "    l3_clusters = movie_pred.select(\"prediction\").groupBy(\"prediction\").agg(count(\"prediction\").alias(\"n_pred\")).sort(desc(\"n_pred\")).limit(3)\n",
    "    \n",
    "    l3_cluster_movies = movie_pred.join(l3_clusters, ['prediction'])\n",
    "    \n",
    "    #Join cluster_movies and movie_tags and tag_tag\n",
    "    all_t5_tags.append(l3_cluster_movies.alias(\"mc\").join(movie_tag.alias(\"mt\"), col(\"mc.id\") == col(\"mt.movieId\")).select(col(\"mt.tagId\"), col(\"mt.relevance\"), col(\"mc.prediction\")).groupBy(\"mc.prediction\", \"mt.tagId\").agg(sum(\"mt.relevance\").alias(\"r_sum\")).sort(\"prediction\", \"r_sum\", ascending=False).alias(\"tags\").join(tag_tag.alias(\"tt\"), col(\"tags.tagId\") == col(\"tt.tagId\")).select(col(\"tags.prediction\").alias(\"cluster_id\"), col(\"tt.tagId\"), col(\"tt.tag\"), col(\"r_sum\")).where(col(\"tt.tagId\") == col(\"tags.tagId\")).sort(desc(\"r_sum\")))\n",
    "    all_t5_tags[-1].show()\n",
    "    \n",
    "    "
   ]
  },
  {
   "cell_type": "code",
   "execution_count": 20,
   "metadata": {},
   "outputs": [
    {
     "name": "stdout",
     "output_type": "stream",
     "text": [
      "+----------+-----+-----------------+------------------+----+\n",
      "|cluster_id|tagId|              tag|             r_sum|rank|\n",
      "+----------+-----+-----------------+------------------+----+\n",
      "|        16|  742|         original| 443.9157500000002|   1|\n",
      "|        16|  646|           mentor|319.86100000000016|   2|\n",
      "|        16|  468|     great ending|           303.499|   3|\n",
      "|        16|  302|         dialogue|294.24799999999993|   4|\n",
      "|        16|  188|      catastrophe|268.07975000000016|   5|\n",
      "|         7|  742|         original| 830.0850000000004|   1|\n",
      "|         7|  972|     storytelling| 654.5745000000003|   2|\n",
      "|         7|  452|  good soundtrack| 650.7422500000004|   3|\n",
      "|         7|  936|social commentary| 618.2425000000002|   4|\n",
      "|         7|  468|     great ending| 614.0780000000003|   5|\n",
      "|        18|  742|         original|           509.652|   1|\n",
      "|        18|  646|           mentor|421.34300000000013|   2|\n",
      "|        18|  468|     great ending|404.00949999999983|   3|\n",
      "|        18|  445|             good|390.91899999999976|   4|\n",
      "|        18|  464|            great|389.25275000000005|   5|\n",
      "+----------+-----+-----------------+------------------+----+\n",
      "\n",
      "+----------+-----+---------------+------------------+----+\n",
      "|cluster_id|tagId|            tag|             r_sum|rank|\n",
      "+----------+-----+---------------+------------------+----+\n",
      "|         1|  742|       original| 649.4009999999995|   1|\n",
      "|         1|  646|         mentor| 561.6147499999997|   2|\n",
      "|         1|  445|           good| 552.4112499999998|   3|\n",
      "|         1|  777|          pg-13| 542.0177499999998|   4|\n",
      "|         1|  468|   great ending| 513.9839999999999|   5|\n",
      "|        13|  742|       original| 301.5647500000002|   1|\n",
      "|        13|  646|         mentor|217.67224999999996|   2|\n",
      "|        13|  302|       dialogue|213.90725000000003|   3|\n",
      "|        13|  468|   great ending|208.43899999999985|   4|\n",
      "|        13|  452|good soundtrack|189.26924999999994|   5|\n",
      "|        18|  742|       original| 782.2800000000001|   1|\n",
      "|        18|  972|   storytelling| 616.3209999999995|   2|\n",
      "|        18|  452|good soundtrack| 612.5574999999995|   3|\n",
      "|        18|  646|         mentor| 603.7812500000001|   4|\n",
      "|        18|  468|   great ending| 586.7975000000001|   5|\n",
      "+----------+-----+---------------+------------------+----+\n",
      "\n",
      "+----------+-----+---------------+------------------+----+\n",
      "|cluster_id|tagId|            tag|             r_sum|rank|\n",
      "+----------+-----+---------------+------------------+----+\n",
      "|         1|  742|       original| 762.1802499999998|   1|\n",
      "|         1|  972|   storytelling| 594.3777500000001|   2|\n",
      "|         1|  452|good soundtrack| 590.2089999999998|   3|\n",
      "|         1|  468|   great ending| 583.7002499999999|   4|\n",
      "|         1|  646|         mentor| 574.8779999999998|   5|\n",
      "|         6|  742|       original| 350.8652500000001|   1|\n",
      "|         6|  646|         mentor|257.42600000000004|   2|\n",
      "|         6|  468|   great ending|244.96025000000006|   3|\n",
      "|         6|  302|       dialogue|238.20250000000004|   4|\n",
      "|         6|  445|           good|220.97850000000005|   5|\n",
      "|         2|  742|       original| 698.3612500000004|   1|\n",
      "|         2|  646|         mentor| 546.7262499999998|   2|\n",
      "|         2|  468|   great ending| 540.1162500000002|   3|\n",
      "|         2|  445|           good| 522.1449999999999|   4|\n",
      "|         2|  302|       dialogue| 521.5494999999999|   5|\n",
      "+----------+-----+---------------+------------------+----+\n",
      "\n",
      "+----------+-----+---------------+------------------+----+\n",
      "|cluster_id|tagId|            tag|             r_sum|rank|\n",
      "+----------+-----+---------------+------------------+----+\n",
      "|         1|  742|       original|          787.5125|   1|\n",
      "|         1|  270|      criterion| 606.8502499999997|   2|\n",
      "|         1|  972|   storytelling| 593.8032500000002|   3|\n",
      "|         1|  452|good soundtrack| 590.7074999999999|   4|\n",
      "|         1| 1008|          talky| 586.5909999999998|   5|\n",
      "|         6|  742|       original|379.31075000000027|   1|\n",
      "|         6|  646|         mentor|269.69599999999997|   2|\n",
      "|         6|  302|       dialogue|         257.86425|   3|\n",
      "|         6|  468|   great ending|         256.78075|   4|\n",
      "|         6|  452|good soundtrack| 238.9075000000001|   5|\n",
      "|         4|  742|       original| 643.0040000000001|   1|\n",
      "|         4|  646|         mentor| 517.1932499999999|   2|\n",
      "|         4|  468|   great ending| 515.1457499999999|   3|\n",
      "|         4|  452|good soundtrack|499.70325000000014|   4|\n",
      "|         4|  972|   storytelling| 495.5040000000002|   5|\n",
      "+----------+-----+---------------+------------------+----+\n",
      "\n",
      "+----------+-----+---------------+------------------+----+\n",
      "|cluster_id|tagId|            tag|             r_sum|rank|\n",
      "+----------+-----+---------------+------------------+----+\n",
      "|         1|  742|       original| 707.0807500000002|   1|\n",
      "|         1|  646|         mentor| 589.8544999999999|   2|\n",
      "|         1|  445|           good| 571.7115000000002|   3|\n",
      "|         1|  777|          pg-13| 562.4539999999997|   4|\n",
      "|         1|  188|    catastrophe|         537.99225|   5|\n",
      "|        13|  742|       original| 777.2919999999998|   1|\n",
      "|        13|  646|         mentor| 614.3335000000003|   2|\n",
      "|        13|  972|   storytelling| 612.2907500000003|   3|\n",
      "|        13|  452|good soundtrack|         609.69925|   4|\n",
      "|        13|  468|   great ending|          590.5155|   5|\n",
      "|         2|  742|       original| 477.5627499999999|   1|\n",
      "|         2|  646|         mentor|358.09824999999995|   2|\n",
      "|         2|  468|   great ending| 337.4660000000003|   3|\n",
      "|         2|  302|       dialogue|           327.734|   4|\n",
      "|         2|  445|           good|          312.3145|   5|\n",
      "+----------+-----+---------------+------------------+----+\n",
      "\n"
     ]
    }
   ],
   "source": [
    "from pyspark.sql.window import Window\n",
    "\n",
    "for t5_tag in all_t5_tags:\n",
    "    window = Window.partitionBy(t5_tag['cluster_id']).orderBy(t5_tag['r_sum'].desc())\n",
    "    t5_tag.select('*', rank().over(window).alias('rank')).filter(col('rank') <= 5).show() "
   ]
  },
  {
   "cell_type": "code",
   "execution_count": null,
   "metadata": {
    "collapsed": true
   },
   "outputs": [],
   "source": [
    "all_t5_tags.show()"
   ]
  },
  {
   "cell_type": "code",
   "execution_count": null,
   "metadata": {
    "collapsed": true
   },
   "outputs": [],
   "source": []
  }
 ],
 "metadata": {
  "anaconda-cloud": {},
  "kernelspec": {
   "display_name": "Python 3",
   "language": "python",
   "name": "python3"
  },
  "language_info": {
   "codemirror_mode": {
    "name": "ipython",
    "version": 3
   },
   "file_extension": ".py",
   "mimetype": "text/x-python",
   "name": "python",
   "nbconvert_exporter": "python",
   "pygments_lexer": "ipython3",
   "version": "3.6.5"
  }
 },
 "nbformat": 4,
 "nbformat_minor": 2
}
